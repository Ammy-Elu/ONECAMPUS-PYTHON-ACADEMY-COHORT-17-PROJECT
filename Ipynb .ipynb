{
 "cells": [
  {
   "cell_type": "markdown",
   "id": "898b7247",
   "metadata": {},
   "source": [
    "# WELCOME TO YOUR FAVOURITE GROCERY STORE"
   ]
  },
  {
   "cell_type": "markdown",
   "id": "9c3d76ef",
   "metadata": {},
   "source": [
    "Containers Are Created To Store Product Category(A List) And Product Dictionary(A Dictionary). "
   ]
  },
  {
   "cell_type": "code",
   "execution_count": 1,
   "id": "062f6f7f",
   "metadata": {},
   "outputs": [],
   "source": [
    "prodCats=['beverages','phoneAcces','toiletries','pastry','cosmetics']\n",
    "\n",
    "prodDict={'beverages':['chocolate','drinks','coffee','tea','soya drinks','pop','soda'],\n",
    "          'phoneAcces':['carrying case','earpieces','screen guards'],\n",
    "          'toiletries':['toilet paper','body soap','scrubs','body creme','shampoo'],\n",
    "          'pastry':['pizza','burgers','muffins','cheesecakes'],\n",
    "          'cosmetics':['perfumes','vanishes','nail polish','deodorants','face scrubs']}"
   ]
  },
  {
   "cell_type": "code",
   "execution_count": null,
   "id": "f4a53c54",
   "metadata": {},
   "outputs": [],
   "source": []
  },
  {
   "cell_type": "code",
   "execution_count": 2,
   "id": "e09b5b9d",
   "metadata": {},
   "outputs": [
    {
     "data": {
      "text/plain": [
       "['chocolate', 'drinks', 'coffee', 'tea', 'soya drinks', 'pop', 'soda']"
      ]
     },
     "execution_count": 2,
     "metadata": {},
     "output_type": "execute_result"
    }
   ],
   "source": [
    "prodDict['beverages']"
   ]
  },
  {
   "cell_type": "code",
   "execution_count": 3,
   "id": "29470989",
   "metadata": {},
   "outputs": [],
   "source": [
    "bevInventDict={'chocolate':6,'drinks':5,'coffee':12,'tea':10,'soya drinks':7,'pop':8,'soda':10}\n",
    "pAccInventDict={'carrying case':10,'earpieces':8,'screen guards':7}\n",
    "toiInventDict={'toilet paper':7,'body soap':8,'scrubs':10,'body creme':5,'shampoo':12}\n",
    "pastInventDict={'pizza':7,'burgers':5,'muffins':9,'cheesecakes':10}\n",
    "cosInventDict={'perfumes':8,'vanishes':6,'nail polish':5,'deodorants':14,'face scrubs':7}\n",
    "misInventDict={}\n",
    "inventList=['brevInventDict','pAccInventDict','toiInventDict','pastInventDict','cosInventDict']"
   ]
  },
  {
   "cell_type": "code",
   "execution_count": 4,
   "id": "14e57bf7",
   "metadata": {},
   "outputs": [
    {
     "data": {
      "text/plain": [
       "{'chocolate': 6,\n",
       " 'drinks': 5,\n",
       " 'coffee': 12,\n",
       " 'tea': 10,\n",
       " 'soya drinks': 7,\n",
       " 'pop': 8,\n",
       " 'soda': 10,\n",
       " 'bread': 10}"
      ]
     },
     "execution_count": 4,
     "metadata": {},
     "output_type": "execute_result"
    }
   ],
   "source": [
    "bevInventDict['bread']=10\n",
    "bevInventDict"
   ]
  },
  {
   "cell_type": "code",
   "execution_count": 5,
   "id": "b3b2ad53",
   "metadata": {},
   "outputs": [],
   "source": [
    "def checkInventory(prod):\n",
    "    \n",
    "         \n",
    "    if prod in prodDict['beverages']:        \n",
    "        prodInvent=bevInventDict[prod]\n",
    "        return prodInvent\n",
    "    if prod in prodDict['phoneAcces']:       \n",
    "        prodInvent=pAccInventDict[prod]\n",
    "        return prodInvent\n",
    "    if prod in prodDict['toiletries']:\n",
    "        prodInvent=toiInventDict[prod]\n",
    "        return prodInvent\n",
    "    if prod in prodDict['pastry']:\n",
    "        prodInvent=pastInventDict[prod]\n",
    "        return prodInvent\n",
    "    if prod in prodDict['cosmetics']:\n",
    "        prodInvent=cosInventDict[prod]\n",
    "        return prodInvent\n",
    "    else:\n",
    "        return f'{prod} not found in inventory'\n",
    "        \n",
    "            "
   ]
  },
  {
   "cell_type": "code",
   "execution_count": null,
   "id": "2817bb1f",
   "metadata": {},
   "outputs": [],
   "source": [
    "prodCheck=input('Enter Product')\n",
    "prodCount =checkInventory(prodCheck)\n",
    "print(prodCount)\n"
   ]
  },
  {
   "cell_type": "code",
   "execution_count": null,
   "id": "1ba9bbfc",
   "metadata": {},
   "outputs": [],
   "source": [
    "Qty = 5\n",
    "\n",
    "if int(prodCount)> Qty:\n",
    "    print(prodCheck + ' is available for sale!' )#Calc Sales\n",
    "    \n",
    "else:\n",
    "    print('Not enough quantity for this sales')\n",
    "    \n"
   ]
  },
  {
   "cell_type": "code",
   "execution_count": null,
   "id": "f1b79f1d",
   "metadata": {},
   "outputs": [],
   "source": [
    "# Scenario to handle any new product that is not in the inventory\n",
    "\n",
    "def inventoryUpdater3(prod, qty):\n",
    "    '''\n",
    "    this function will accepts a product name and checks if its available in the inventory list\n",
    "    if found, it will return the current quantity in inventory\n",
    "\n",
    "    '''\n",
    "    oqt, nqt = 'xx','xx'\n",
    "\n",
    "    if prod in prodDict['beverages']:\n",
    "        #return bevInventDict[prod]\n",
    "       #bevInventDict[prod] = bevInventDict[prod] + qty\n",
    "        oldQty = bevInventDict[prod]\n",
    "        bevInventDict[prod] += qty # \n",
    "        print('update successful')\n",
    "        oqt, nqt = oldQty, bevInventDict[prod]   \n",
    "    \n",
    "    if prod in prodDict['phoneAcces']:\n",
    "        #return pAccInventDict[prod]\n",
    "        oldQty = pAccInventDict[prod]\n",
    "        pAccInventDict[prod] += qty #\n",
    "        print('update successful')\n",
    "        oqt, nqt = oldQty,pAccInventDict[prod]   \n",
    "    \n",
    "    if prod in prodDict['toiletries']:\n",
    "        oldQty = toiInventDict[prod]\n",
    "        toiInventDict[prod] += qty # \n",
    "        print('update successful')\n",
    "        oqt, nqt = oldQty, toiInventDict[prod]\n",
    "    if prod in prodDict['pastry']:\n",
    "        oldQty = pastInventDict[prod]                       \n",
    "        pastInventDict[prod] += qty # \n",
    "        print('update successful')\n",
    "        oqt, nqt = oldQty, pastInventDict[prod]\n",
    "    if prod in prodDict['cosmetics']:\n",
    "        oldQty = cosInventDict[prod]\n",
    "        cosInventDict[prod] += qty #\n",
    "        print('update successful')\n",
    "        oqt, nqt = oldQty, cosInventDict[prod]\n",
    "    \n",
    "    if nqt != 'xx' and oqt !='xx':\n",
    "        return oqt, nqt\n",
    "    else:\n",
    "        return  [f'{prod}  not found in inventory, do you want to add as new product?', '...']\n",
    "    \n",
    "\n",
    "\n",
    "newInvent = input('specify item')\n",
    "invetQty = int(input('specify qty'))\n",
    "\n",
    "oldQty, newQty= inventoryUpdater3(newInvent, invetQty)\n",
    "\n",
    "if newQty != '...':\n",
    "    print(f'{newInvent} inventory updated from {oldQty} to  {newQty}')\n",
    "else:\n",
    "    print('Not found in inventory, do you want to add as new product?')\n",
    "    Nprod=input('''Specify new product category--- format  \n",
    "            beverages,\n",
    "            phoneAcces,\n",
    "            toiletries,\n",
    "            pastry,\n",
    "            cosmetics''')\n",
    "    Nqty=invetQty\n",
    "    \n",
    "    prodDict[Nprod].append(newInvent)\n",
    "    if Nprod == 'beverages':\n",
    "        bevInventDict[newInvent]= int(Nqty)\n",
    "        print('New Product Successfully Added')\n",
    "    if Nprod == 'phoneAcces':\n",
    "        pAccInventDict[newInvent]= int(Nqty)\n",
    "        print('New Product Successfully Added')\n",
    "    if Nprod == 'cosmetics':\n",
    "        cosInventDict[newInvent]= int(Nqty)\n",
    "        print('New Product Successfully Added')\n",
    "    if Nprod == 'toiletries':\n",
    "        toiInventDict[newInvent]= int(Nqty)\n",
    "        print('New Product Successfully Added')\n",
    "    if Nprod == 'pastry':\n",
    "        \n",
    "        pastInventDict[newInvent]= int(Nqty)\n",
    "        print('New Product Successfully Added')\n",
    "    \n",
    "\n",
    "\n",
    "\n",
    "        \n",
    "inventList=['brevInventDict','pAccInventDict','toiInventDict','pastInventDict','cosInventDict']\n"
   ]
  },
  {
   "cell_type": "code",
   "execution_count": null,
   "id": "ca5d0ca0",
   "metadata": {},
   "outputs": [],
   "source": []
  },
  {
   "cell_type": "code",
   "execution_count": null,
   "id": "24ebe6a4",
   "metadata": {},
   "outputs": [],
   "source": []
  },
  {
   "cell_type": "code",
   "execution_count": null,
   "id": "c722d7b7",
   "metadata": {},
   "outputs": [],
   "source": []
  },
  {
   "cell_type": "code",
   "execution_count": null,
   "id": "708bcd39",
   "metadata": {},
   "outputs": [],
   "source": [
    "bevSPDict = {'chocolate':7, 'drinks':5, 'coffee':8, 'tea':10, 'soya drinks':5, 'pop':0, 'soda':20}\n",
    "pAccSPDict = {'carrying case':2, 'earpieces':60, 'screen guards':15}\n",
    "toiSPDict = {'toilet paper':36, 'body soap':67, 'scrubs':26, 'body creme':48, 'shampoo':50}\n",
    "pastSPDict = {'pizza':13, 'burgers':96, 'donuts':120, 'muffins':98, 'cheesecakes':12}\n",
    "cosSPDict = {'perfumes':50, 'vanishes':76, 'nail polish':41, 'deodorants':85, 'face scrubs':34}"
   ]
  },
  {
   "cell_type": "code",
   "execution_count": null,
   "id": "c8ab3dbe",
   "metadata": {},
   "outputs": [],
   "source": [
    "def salesCalc(prod, qty):\n",
    "    \n",
    "    \n",
    "    if prod in prodDict['beverages']:\n",
    "        sp =  bevSPDict[prod]\n",
    "        #print('this is the selling price',sp)\n",
    "        tSales = sp * qty\n",
    "        return tSales\n",
    "   \n",
    "    if prod in prodDict['phoneAcces']:\n",
    "        sp =  pAccSPDict[prod]\n",
    "        tSales = sp * qty\n",
    "        return tSales        \n",
    "    if prod in prodDict['toiletries']:\n",
    "        sp =  toiSPDict[prod]\n",
    "        tSales = sp * qty\n",
    "        return tSales        \n",
    "    if prod in prodDict['pastry']:\n",
    "        sp =  pastSPDict[prod]\n",
    "        tSales = sp * qty\n",
    "        return tSales        \n",
    "    if prod in prodDict['cosmetics']:\n",
    "        sp =  cosSPDict[prod]\n",
    "        tSales = sp * qty\n",
    "        return tSales        \n",
    "\n",
    "def salesFunc():\n",
    "    \n",
    "    itemList = input('list all items seperated by comma')\n",
    "    itemQty = input('list each item quantity seperated by comma')\n",
    "    salesDict = dict()\n",
    "    prods = itemList.split(',') \n",
    "    qtyList = itemQty.split(',')\n",
    "    qtys = []\n",
    "    for qty in qtyList:\n",
    "        qtys.append(float(qty))\n",
    "    print(prods)  \n",
    "    print(qtys)\n",
    "    for p  ,q in zip(prods,qtys ):\n",
    "        print(p,q)\n",
    "        pTSales = salesCalc(p, q)\n",
    "        print(pTSales)\n",
    "        #unitPrice = pTSales[0]\n",
    "        totalSale = pTSales#[1]\n",
    "        #salesDict[p]= [q, unitPrice, totalSale]\n",
    "        salesDict[p]= [q,  totalSale]\n",
    "    print(salesDict)    \n"
   ]
  },
  {
   "cell_type": "code",
   "execution_count": null,
   "id": "ec00f17e",
   "metadata": {},
   "outputs": [],
   "source": []
  },
  {
   "cell_type": "code",
   "execution_count": null,
   "id": "9b71479f",
   "metadata": {},
   "outputs": [],
   "source": [
    "def salesCalc2(prod, qty):\n",
    "    \n",
    "    sp = ''\n",
    "    tSales = ''\n",
    "    if prod in prodDict['beverages']:\n",
    "        sp =  bevSPDict[prod]\n",
    "        #print('this is the selling price',sp)\n",
    "        tSales = sp * qty\n",
    "        #return tSales\n",
    "   \n",
    "    if prod in prodDict['phoneAcces']:\n",
    "        sp =  pAccSPDict[prod]\n",
    "        tSales = sp * qty\n",
    "        #return tSales        \n",
    "    if prod in prodDict['toiletries']:\n",
    "        sp =  toiSPDict[prod]\n",
    "        tSales = sp * qty\n",
    "        #return tSales        \n",
    "    if prod in prodDict['pastry']:\n",
    "        sp =  pastSPDict[prod]\n",
    "        tSales = sp * qty\n",
    "        #return tSales        \n",
    "    if prod in prodDict['cosmetics']:\n",
    "        sp =  cosSPDict[prod]\n",
    "        tSales = sp * qty\n",
    "    return [sp,tSales]        \n",
    "\n",
    "def salesFunc2():\n",
    "    \n",
    "    itemList = input('list all items seperated by comma')\n",
    "    itemQty = input('list each item quantity seperated by comma')\n",
    "    salesDict = dict()\n",
    "    prods = itemList.split(',') \n",
    "    qtyList = itemQty.split(',')\n",
    "    qtys = []\n",
    "    for qty in qtyList:\n",
    "        qtys.append(float(qty))\n",
    "    print(prods)  \n",
    "    print(qtys)\n",
    "    for p  ,q in zip(prods,qtys ):\n",
    "        print(p,q)\n",
    "        pTSales = salesCalc2(p, q)\n",
    "        print(pTSales)\n",
    "        unitPrice = pTSales[0]\n",
    "        totalSale = pTSales[1]\n",
    "        salesDict[p]= [p, q, unitPrice, totalSale]\n",
    "        #salesDict[p]= [q,  totalSale]\n",
    "    return salesDict  "
   ]
  },
  {
   "cell_type": "code",
   "execution_count": null,
   "id": "6f85f63a",
   "metadata": {},
   "outputs": [],
   "source": []
  },
  {
   "cell_type": "code",
   "execution_count": null,
   "id": "97af18a3",
   "metadata": {},
   "outputs": [],
   "source": [
    "import pandas as pd\n",
    "\n",
    "sales = salesFunc2()\n",
    "\n",
    "salesList = list(sales.values())\n",
    "df = pd.DataFrame(salesList, columns = ['Item','Quantity','Selling Price', 'Total Sale'])\n",
    "print(df)\n",
    "total =sum(df['Total Sale'])\n",
    "dfArr = df.values.tolist()\n",
    "dfArr.append(['Total','','',total])\n",
    "\n",
    "df = pd.DataFrame(dfArr,columns = ['Item','Quantity','Selling Price', 'Total Sale'] )\n",
    "df"
   ]
  },
  {
   "cell_type": "code",
   "execution_count": null,
   "id": "3c2c34d6",
   "metadata": {},
   "outputs": [],
   "source": [
    "df"
   ]
  },
  {
   "cell_type": "code",
   "execution_count": null,
   "id": "69d7b3de",
   "metadata": {},
   "outputs": [],
   "source": [
    "y = df.values\n",
    "#lenC = len(listdf.columns))\n",
    "y.append(['Total','','','',Total])\n"
   ]
  },
  {
   "cell_type": "code",
   "execution_count": null,
   "id": "ce97bc84",
   "metadata": {},
   "outputs": [],
   "source": []
  },
  {
   "cell_type": "code",
   "execution_count": null,
   "id": "c8e8c9e1",
   "metadata": {},
   "outputs": [],
   "source": []
  },
  {
   "cell_type": "code",
   "execution_count": null,
   "id": "4bc32a1e",
   "metadata": {},
   "outputs": [],
   "source": []
  },
  {
   "cell_type": "code",
   "execution_count": null,
   "id": "d450dcea",
   "metadata": {},
   "outputs": [],
   "source": []
  },
  {
   "cell_type": "code",
   "execution_count": null,
   "id": "a40e6093",
   "metadata": {},
   "outputs": [],
   "source": []
  },
  {
   "cell_type": "code",
   "execution_count": null,
   "id": "2b02f41e",
   "metadata": {},
   "outputs": [],
   "source": []
  }
 ],
 "metadata": {
  "kernelspec": {
   "display_name": "Python 3 (ipykernel)",
   "language": "python",
   "name": "python3"
  },
  "language_info": {
   "codemirror_mode": {
    "name": "ipython",
    "version": 3
   },
   "file_extension": ".py",
   "mimetype": "text/x-python",
   "name": "python",
   "nbconvert_exporter": "python",
   "pygments_lexer": "ipython3",
   "version": "3.9.7"
  }
 },
 "nbformat": 4,
 "nbformat_minor": 5
}
